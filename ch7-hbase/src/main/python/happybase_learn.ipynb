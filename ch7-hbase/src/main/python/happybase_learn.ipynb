{
 "cells": [
  {
   "cell_type": "code",
   "execution_count": 1,
   "metadata": {
    "collapsed": true
   },
   "outputs": [],
   "source": [
    "import happybase"
   ]
  },
  {
   "cell_type": "code",
   "execution_count": 2,
   "outputs": [
    {
     "data": {
      "text/plain": "'1.2.0'"
     },
     "execution_count": 2,
     "metadata": {},
     "output_type": "execute_result"
    }
   ],
   "source": [
    "happybase.__version__"
   ],
   "metadata": {
    "collapsed": false
   }
  },
  {
   "cell_type": "code",
   "execution_count": 9,
   "outputs": [
    {
     "ename": "TProtocolException",
     "evalue": "No protocol version header",
     "output_type": "error",
     "traceback": [
      "\u001B[1;31m---------------------------------------------------------------------------\u001B[0m",
      "\u001B[1;31mTProtocolException\u001B[0m                        Traceback (most recent call last)",
      "Cell \u001B[1;32mIn [9], line 2\u001B[0m\n\u001B[0;32m      1\u001B[0m conn \u001B[38;5;241m=\u001B[39m happybase\u001B[38;5;241m.\u001B[39mConnection(host\u001B[38;5;241m=\u001B[39m\u001B[38;5;124m\"\u001B[39m\u001B[38;5;124mzzti\u001B[39m\u001B[38;5;124m\"\u001B[39m,port\u001B[38;5;241m=\u001B[39m\u001B[38;5;241m9090\u001B[39m)\n\u001B[1;32m----> 2\u001B[0m \u001B[38;5;28;01mfor\u001B[39;00m x \u001B[38;5;129;01min\u001B[39;00m \u001B[43mconn\u001B[49m\u001B[38;5;241;43m.\u001B[39;49m\u001B[43mtables\u001B[49m\u001B[43m(\u001B[49m\u001B[43m)\u001B[49m:\n\u001B[0;32m      3\u001B[0m     \u001B[38;5;28mprint\u001B[39m(x)\n",
      "File \u001B[1;32mC:\\conda\\venv\\torch\\lib\\site-packages\\happybase\\connection.py:242\u001B[0m, in \u001B[0;36mConnection.tables\u001B[1;34m(self)\u001B[0m\n\u001B[0;32m    233\u001B[0m \u001B[38;5;28;01mdef\u001B[39;00m \u001B[38;5;21mtables\u001B[39m(\u001B[38;5;28mself\u001B[39m):\n\u001B[0;32m    234\u001B[0m     \u001B[38;5;124;03m\"\"\"Return a list of table names available in this HBase instance.\u001B[39;00m\n\u001B[0;32m    235\u001B[0m \n\u001B[0;32m    236\u001B[0m \u001B[38;5;124;03m    If a `table_prefix` was set for this :py:class:`Connection`, only\u001B[39;00m\n\u001B[1;32m   (...)\u001B[0m\n\u001B[0;32m    240\u001B[0m \u001B[38;5;124;03m    :rtype: List of strings\u001B[39;00m\n\u001B[0;32m    241\u001B[0m \u001B[38;5;124;03m    \"\"\"\u001B[39;00m\n\u001B[1;32m--> 242\u001B[0m     names \u001B[38;5;241m=\u001B[39m \u001B[38;5;28;43mself\u001B[39;49m\u001B[38;5;241;43m.\u001B[39;49m\u001B[43mclient\u001B[49m\u001B[38;5;241;43m.\u001B[39;49m\u001B[43mgetTableNames\u001B[49m\u001B[43m(\u001B[49m\u001B[43m)\u001B[49m\n\u001B[0;32m    244\u001B[0m     \u001B[38;5;66;03m# Filter using prefix, and strip prefix from names\u001B[39;00m\n\u001B[0;32m    245\u001B[0m     \u001B[38;5;28;01mif\u001B[39;00m \u001B[38;5;28mself\u001B[39m\u001B[38;5;241m.\u001B[39mtable_prefix \u001B[38;5;129;01mis\u001B[39;00m \u001B[38;5;129;01mnot\u001B[39;00m \u001B[38;5;28;01mNone\u001B[39;00m:\n",
      "File \u001B[1;32mC:\\conda\\venv\\torch\\lib\\site-packages\\thriftpy2\\thrift.py:219\u001B[0m, in \u001B[0;36mTClient._req\u001B[1;34m(self, _api, *args, **kwargs)\u001B[0m\n\u001B[0;32m    217\u001B[0m \u001B[38;5;66;03m# wait result only if non-oneway\u001B[39;00m\n\u001B[0;32m    218\u001B[0m \u001B[38;5;28;01mif\u001B[39;00m \u001B[38;5;129;01mnot\u001B[39;00m \u001B[38;5;28mgetattr\u001B[39m(result_cls, \u001B[38;5;124m\"\u001B[39m\u001B[38;5;124moneway\u001B[39m\u001B[38;5;124m\"\u001B[39m):\n\u001B[1;32m--> 219\u001B[0m     \u001B[38;5;28;01mreturn\u001B[39;00m \u001B[38;5;28;43mself\u001B[39;49m\u001B[38;5;241;43m.\u001B[39;49m\u001B[43m_recv\u001B[49m\u001B[43m(\u001B[49m\u001B[43m_api\u001B[49m\u001B[43m)\u001B[49m\n",
      "File \u001B[1;32mC:\\conda\\venv\\torch\\lib\\site-packages\\thriftpy2\\thrift.py:231\u001B[0m, in \u001B[0;36mTClient._recv\u001B[1;34m(self, _api)\u001B[0m\n\u001B[0;32m    230\u001B[0m \u001B[38;5;28;01mdef\u001B[39;00m \u001B[38;5;21m_recv\u001B[39m(\u001B[38;5;28mself\u001B[39m, _api):\n\u001B[1;32m--> 231\u001B[0m     fname, mtype, rseqid \u001B[38;5;241m=\u001B[39m \u001B[38;5;28;43mself\u001B[39;49m\u001B[38;5;241;43m.\u001B[39;49m\u001B[43m_iprot\u001B[49m\u001B[38;5;241;43m.\u001B[39;49m\u001B[43mread_message_begin\u001B[49m\u001B[43m(\u001B[49m\u001B[43m)\u001B[49m\n\u001B[0;32m    232\u001B[0m     \u001B[38;5;28;01mif\u001B[39;00m mtype \u001B[38;5;241m==\u001B[39m TMessageType\u001B[38;5;241m.\u001B[39mEXCEPTION:\n\u001B[0;32m    233\u001B[0m         x \u001B[38;5;241m=\u001B[39m TApplicationException()\n",
      "File \u001B[1;32mC:\\conda\\venv\\torch\\lib\\site-packages\\thriftpy2\\protocol\\binary.py:393\u001B[0m, in \u001B[0;36mTBinaryProtocol.read_message_begin\u001B[1;34m(self)\u001B[0m\n\u001B[0;32m    392\u001B[0m \u001B[38;5;28;01mdef\u001B[39;00m \u001B[38;5;21mread_message_begin\u001B[39m(\u001B[38;5;28mself\u001B[39m):\n\u001B[1;32m--> 393\u001B[0m     api, ttype, seqid \u001B[38;5;241m=\u001B[39m \u001B[43mread_message_begin\u001B[49m\u001B[43m(\u001B[49m\n\u001B[0;32m    394\u001B[0m \u001B[43m        \u001B[49m\u001B[38;5;28;43mself\u001B[39;49m\u001B[38;5;241;43m.\u001B[39;49m\u001B[43mtrans\u001B[49m\u001B[43m,\u001B[49m\u001B[43m \u001B[49m\u001B[43mstrict\u001B[49m\u001B[38;5;241;43m=\u001B[39;49m\u001B[38;5;28;43mself\u001B[39;49m\u001B[38;5;241;43m.\u001B[39;49m\u001B[43mstrict_read\u001B[49m\u001B[43m)\u001B[49m\n\u001B[0;32m    395\u001B[0m     \u001B[38;5;28;01mreturn\u001B[39;00m api, ttype, seqid\n",
      "File \u001B[1;32mC:\\conda\\venv\\torch\\lib\\site-packages\\thriftpy2\\protocol\\binary.py:187\u001B[0m, in \u001B[0;36mread_message_begin\u001B[1;34m(inbuf, strict)\u001B[0m\n\u001B[0;32m    185\u001B[0m \u001B[38;5;28;01melse\u001B[39;00m:\n\u001B[0;32m    186\u001B[0m     \u001B[38;5;28;01mif\u001B[39;00m strict:\n\u001B[1;32m--> 187\u001B[0m         \u001B[38;5;28;01mraise\u001B[39;00m TProtocolException(\u001B[38;5;28mtype\u001B[39m\u001B[38;5;241m=\u001B[39mTProtocolException\u001B[38;5;241m.\u001B[39mBAD_VERSION,\n\u001B[0;32m    188\u001B[0m                                  message\u001B[38;5;241m=\u001B[39m\u001B[38;5;124m'\u001B[39m\u001B[38;5;124mNo protocol version header\u001B[39m\u001B[38;5;124m'\u001B[39m)\n\u001B[0;32m    190\u001B[0m     name \u001B[38;5;241m=\u001B[39m inbuf\u001B[38;5;241m.\u001B[39mread(sz)\u001B[38;5;241m.\u001B[39mdecode(\u001B[38;5;124m'\u001B[39m\u001B[38;5;124mutf-8\u001B[39m\u001B[38;5;124m'\u001B[39m)\n\u001B[0;32m    191\u001B[0m     type_ \u001B[38;5;241m=\u001B[39m unpack_i8(inbuf\u001B[38;5;241m.\u001B[39mread(\u001B[38;5;241m1\u001B[39m))\n",
      "\u001B[1;31mTProtocolException\u001B[0m: No protocol version header"
     ]
    }
   ],
   "source": [
    "conn = happybase.Connection(host=\"zzti\",port=9090)\n",
    "for x in conn.tables():\n",
    "    print(x)"
   ],
   "metadata": {
    "collapsed": false
   }
  },
  {
   "cell_type": "code",
   "execution_count": 12,
   "outputs": [
    {
     "ename": "TProtocolException",
     "evalue": "No protocol version header",
     "output_type": "error",
     "traceback": [
      "\u001B[1;31m---------------------------------------------------------------------------\u001B[0m",
      "\u001B[1;31mTProtocolException\u001B[0m                        Traceback (most recent call last)",
      "Cell \u001B[1;32mIn [12], line 2\u001B[0m\n\u001B[0;32m      1\u001B[0m students \u001B[38;5;241m=\u001B[39m conn\u001B[38;5;241m.\u001B[39mtable(\u001B[38;5;124m\"\u001B[39m\u001B[38;5;124mstudents\u001B[39m\u001B[38;5;124m\"\u001B[39m)\n\u001B[1;32m----> 2\u001B[0m \u001B[38;5;28;01mfor\u001B[39;00m row, cols \u001B[38;5;129;01min\u001B[39;00m students\u001B[38;5;241m.\u001B[39mscan(limit\u001B[38;5;241m=\u001B[39m\u001B[38;5;241m10\u001B[39m):\n\u001B[0;32m      3\u001B[0m     \u001B[38;5;28;01mfor\u001B[39;00m key, val \u001B[38;5;129;01min\u001B[39;00m cols\u001B[38;5;241m.\u001B[39mitems():\n\u001B[0;32m      4\u001B[0m         \u001B[38;5;28mprint\u001B[39m(\u001B[38;5;28mbytes\u001B[39m\u001B[38;5;241m.\u001B[39mdecode(row), \u001B[38;5;28mbytes\u001B[39m\u001B[38;5;241m.\u001B[39mdecode(key), \u001B[38;5;28mbytes\u001B[39m\u001B[38;5;241m.\u001B[39mdecode(val))\n",
      "File \u001B[1;32mC:\\conda\\venv\\torch\\lib\\site-packages\\happybase\\table.py:401\u001B[0m, in \u001B[0;36mTable.scan\u001B[1;34m(self, row_start, row_stop, row_prefix, columns, filter, timestamp, include_timestamp, batch_size, scan_batching, limit, sorted_columns, reverse)\u001B[0m\n\u001B[0;32m    370\u001B[0m \u001B[38;5;28;01melse\u001B[39;00m:\n\u001B[0;32m    371\u001B[0m     \u001B[38;5;66;03m# XXX: The \"batch_size\" can be slightly confusing to those\u001B[39;00m\n\u001B[0;32m    372\u001B[0m     \u001B[38;5;66;03m# familiar with the HBase Java API:\u001B[39;00m\n\u001B[1;32m   (...)\u001B[0m\n\u001B[0;32m    388\u001B[0m     \u001B[38;5;66;03m# cuts rows into multiple partial rows, can be set using the\u001B[39;00m\n\u001B[0;32m    389\u001B[0m     \u001B[38;5;66;03m# slightly strange name scan_batching.\u001B[39;00m\n\u001B[0;32m    390\u001B[0m     scan \u001B[38;5;241m=\u001B[39m TScan(\n\u001B[0;32m    391\u001B[0m         startRow\u001B[38;5;241m=\u001B[39mrow_start,\n\u001B[0;32m    392\u001B[0m         stopRow\u001B[38;5;241m=\u001B[39mrow_stop,\n\u001B[1;32m   (...)\u001B[0m\n\u001B[0;32m    399\u001B[0m         \u001B[38;5;28mreversed\u001B[39m\u001B[38;5;241m=\u001B[39mreverse,\n\u001B[0;32m    400\u001B[0m     )\n\u001B[1;32m--> 401\u001B[0m     scan_id \u001B[38;5;241m=\u001B[39m \u001B[38;5;28;43mself\u001B[39;49m\u001B[38;5;241;43m.\u001B[39;49m\u001B[43mconnection\u001B[49m\u001B[38;5;241;43m.\u001B[39;49m\u001B[43mclient\u001B[49m\u001B[38;5;241;43m.\u001B[39;49m\u001B[43mscannerOpenWithScan\u001B[49m\u001B[43m(\u001B[49m\n\u001B[0;32m    402\u001B[0m \u001B[43m        \u001B[49m\u001B[38;5;28;43mself\u001B[39;49m\u001B[38;5;241;43m.\u001B[39;49m\u001B[43mname\u001B[49m\u001B[43m,\u001B[49m\u001B[43m \u001B[49m\u001B[43mscan\u001B[49m\u001B[43m,\u001B[49m\u001B[43m \u001B[49m\u001B[43m{\u001B[49m\u001B[43m}\u001B[49m\u001B[43m)\u001B[49m\n\u001B[0;32m    404\u001B[0m logger\u001B[38;5;241m.\u001B[39mdebug(\u001B[38;5;124m\"\u001B[39m\u001B[38;5;124mOpened scanner (id=\u001B[39m\u001B[38;5;132;01m%d\u001B[39;00m\u001B[38;5;124m) on \u001B[39m\u001B[38;5;124m'\u001B[39m\u001B[38;5;132;01m%s\u001B[39;00m\u001B[38;5;124m'\u001B[39m\u001B[38;5;124m\"\u001B[39m, scan_id, \u001B[38;5;28mself\u001B[39m\u001B[38;5;241m.\u001B[39mname)\n\u001B[0;32m    406\u001B[0m n_returned \u001B[38;5;241m=\u001B[39m n_fetched \u001B[38;5;241m=\u001B[39m \u001B[38;5;241m0\u001B[39m\n",
      "File \u001B[1;32mC:\\conda\\venv\\torch\\lib\\site-packages\\thriftpy2\\thrift.py:219\u001B[0m, in \u001B[0;36mTClient._req\u001B[1;34m(self, _api, *args, **kwargs)\u001B[0m\n\u001B[0;32m    217\u001B[0m \u001B[38;5;66;03m# wait result only if non-oneway\u001B[39;00m\n\u001B[0;32m    218\u001B[0m \u001B[38;5;28;01mif\u001B[39;00m \u001B[38;5;129;01mnot\u001B[39;00m \u001B[38;5;28mgetattr\u001B[39m(result_cls, \u001B[38;5;124m\"\u001B[39m\u001B[38;5;124moneway\u001B[39m\u001B[38;5;124m\"\u001B[39m):\n\u001B[1;32m--> 219\u001B[0m     \u001B[38;5;28;01mreturn\u001B[39;00m \u001B[38;5;28;43mself\u001B[39;49m\u001B[38;5;241;43m.\u001B[39;49m\u001B[43m_recv\u001B[49m\u001B[43m(\u001B[49m\u001B[43m_api\u001B[49m\u001B[43m)\u001B[49m\n",
      "File \u001B[1;32mC:\\conda\\venv\\torch\\lib\\site-packages\\thriftpy2\\thrift.py:231\u001B[0m, in \u001B[0;36mTClient._recv\u001B[1;34m(self, _api)\u001B[0m\n\u001B[0;32m    230\u001B[0m \u001B[38;5;28;01mdef\u001B[39;00m \u001B[38;5;21m_recv\u001B[39m(\u001B[38;5;28mself\u001B[39m, _api):\n\u001B[1;32m--> 231\u001B[0m     fname, mtype, rseqid \u001B[38;5;241m=\u001B[39m \u001B[38;5;28;43mself\u001B[39;49m\u001B[38;5;241;43m.\u001B[39;49m\u001B[43m_iprot\u001B[49m\u001B[38;5;241;43m.\u001B[39;49m\u001B[43mread_message_begin\u001B[49m\u001B[43m(\u001B[49m\u001B[43m)\u001B[49m\n\u001B[0;32m    232\u001B[0m     \u001B[38;5;28;01mif\u001B[39;00m mtype \u001B[38;5;241m==\u001B[39m TMessageType\u001B[38;5;241m.\u001B[39mEXCEPTION:\n\u001B[0;32m    233\u001B[0m         x \u001B[38;5;241m=\u001B[39m TApplicationException()\n",
      "File \u001B[1;32mC:\\conda\\venv\\torch\\lib\\site-packages\\thriftpy2\\protocol\\binary.py:393\u001B[0m, in \u001B[0;36mTBinaryProtocol.read_message_begin\u001B[1;34m(self)\u001B[0m\n\u001B[0;32m    392\u001B[0m \u001B[38;5;28;01mdef\u001B[39;00m \u001B[38;5;21mread_message_begin\u001B[39m(\u001B[38;5;28mself\u001B[39m):\n\u001B[1;32m--> 393\u001B[0m     api, ttype, seqid \u001B[38;5;241m=\u001B[39m \u001B[43mread_message_begin\u001B[49m\u001B[43m(\u001B[49m\n\u001B[0;32m    394\u001B[0m \u001B[43m        \u001B[49m\u001B[38;5;28;43mself\u001B[39;49m\u001B[38;5;241;43m.\u001B[39;49m\u001B[43mtrans\u001B[49m\u001B[43m,\u001B[49m\u001B[43m \u001B[49m\u001B[43mstrict\u001B[49m\u001B[38;5;241;43m=\u001B[39;49m\u001B[38;5;28;43mself\u001B[39;49m\u001B[38;5;241;43m.\u001B[39;49m\u001B[43mstrict_read\u001B[49m\u001B[43m)\u001B[49m\n\u001B[0;32m    395\u001B[0m     \u001B[38;5;28;01mreturn\u001B[39;00m api, ttype, seqid\n",
      "File \u001B[1;32mC:\\conda\\venv\\torch\\lib\\site-packages\\thriftpy2\\protocol\\binary.py:187\u001B[0m, in \u001B[0;36mread_message_begin\u001B[1;34m(inbuf, strict)\u001B[0m\n\u001B[0;32m    185\u001B[0m \u001B[38;5;28;01melse\u001B[39;00m:\n\u001B[0;32m    186\u001B[0m     \u001B[38;5;28;01mif\u001B[39;00m strict:\n\u001B[1;32m--> 187\u001B[0m         \u001B[38;5;28;01mraise\u001B[39;00m TProtocolException(\u001B[38;5;28mtype\u001B[39m\u001B[38;5;241m=\u001B[39mTProtocolException\u001B[38;5;241m.\u001B[39mBAD_VERSION,\n\u001B[0;32m    188\u001B[0m                                  message\u001B[38;5;241m=\u001B[39m\u001B[38;5;124m'\u001B[39m\u001B[38;5;124mNo protocol version header\u001B[39m\u001B[38;5;124m'\u001B[39m)\n\u001B[0;32m    190\u001B[0m     name \u001B[38;5;241m=\u001B[39m inbuf\u001B[38;5;241m.\u001B[39mread(sz)\u001B[38;5;241m.\u001B[39mdecode(\u001B[38;5;124m'\u001B[39m\u001B[38;5;124mutf-8\u001B[39m\u001B[38;5;124m'\u001B[39m)\n\u001B[0;32m    191\u001B[0m     type_ \u001B[38;5;241m=\u001B[39m unpack_i8(inbuf\u001B[38;5;241m.\u001B[39mread(\u001B[38;5;241m1\u001B[39m))\n",
      "\u001B[1;31mTProtocolException\u001B[0m: No protocol version header"
     ]
    }
   ],
   "source": [
    "students = conn.table(\"students\")\n",
    "for row, cols in students.scan(limit=10):\n",
    "    for key, val in cols.items():\n",
    "        print(bytes.decode(row), bytes.decode(key), bytes.decode(val))"
   ],
   "metadata": {
    "collapsed": false
   }
  },
  {
   "cell_type": "code",
   "execution_count": 7,
   "outputs": [],
   "source": [
    "conn.close()"
   ],
   "metadata": {
    "collapsed": false
   }
  },
  {
   "cell_type": "code",
   "execution_count": null,
   "outputs": [],
   "source": [],
   "metadata": {
    "collapsed": false
   }
  }
 ],
 "metadata": {
  "kernelspec": {
   "display_name": "Python 3",
   "language": "python",
   "name": "python3"
  },
  "language_info": {
   "codemirror_mode": {
    "name": "ipython",
    "version": 2
   },
   "file_extension": ".py",
   "mimetype": "text/x-python",
   "name": "python",
   "nbconvert_exporter": "python",
   "pygments_lexer": "ipython2",
   "version": "2.7.6"
  }
 },
 "nbformat": 4,
 "nbformat_minor": 0
}
